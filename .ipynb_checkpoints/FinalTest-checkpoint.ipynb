{
 "cells": [
  {
   "cell_type": "code",
   "execution_count": 10,
   "metadata": {},
   "outputs": [
    {
     "name": "stdout",
     "output_type": "stream",
     "text": [
      "1801\n",
      "608\n",
      "600\n",
      "600\n"
     ]
    }
   ],
   "source": [
    "import pyglet\n",
    "from pyglet.window import key\n",
    "\n",
    "window = pyglet.window.Window(1600,1024)\n",
    "label = pyglet.text.Label('Hello, world',\n",
    "                          font_name='Times New Roman',\n",
    "                          font_size=36,\n",
    "                          x=window.width//2, y=window.height//2,\n",
    "                          anchor_x='center', anchor_y='center')\n",
    "imgTable = pyglet.image.load('res\\img\\Piezas\\Tablero.png')\n",
    "imgGem1= pyglet.image.load('res\\img\\Gem1.png')\n",
    "imgGem2= pyglet.image.load('res\\img\\Gem2.png')\n",
    "imgGem3= pyglet.image.load('res\\img\\Gem3.png')\n",
    "print(imgTable.width)\n",
    "print(imgTable.height)\n",
    "print(imgGem1.width)\n",
    "print(imgGem2.height)\n",
    "#Tamaño original tablero 1801*608\n",
    "sprTable = pyglet.sprite.Sprite(imgTable,x=0,y=660)\n",
    "#Tamaño original Sprite 600*600\n",
    "sprGem1 = pyglet.sprite.Sprite(imgGem1,x=400,y=660)\n",
    "#Tamaño del tablero --> 1602.9*364.8 aprox\n",
    "sprTable.scale_x=0.89\n",
    "sprTable.scale_y=0.60\n",
    "sprGem1.scale=.08\n",
    "\n",
    "@window.event\n",
    "def on_key_press(symbol, modifiers):\n",
    "    if symbol == key.A:\n",
    "        print('The \"A\" key was pressed.')\n",
    "    elif symbol == key.LEFT:\n",
    "        print('The left arrow key was pressed.')\n",
    "    elif symbol == key.ENTER:\n",
    "        print('The enter key was pressed.')\n",
    "\n",
    "@window.event\n",
    "def on_draw():\n",
    "    window.clear()\n",
    "    label.draw()\n",
    "    sprTable.draw()\n",
    "    sprGem1.draw()\n",
    "    \n",
    "pyglet.app.run()\n"
   ]
  },
  {
   "cell_type": "code",
   "execution_count": null,
   "metadata": {},
   "outputs": [],
   "source": []
  },
  {
   "cell_type": "code",
   "execution_count": null,
   "metadata": {},
   "outputs": [],
   "source": []
  }
 ],
 "metadata": {
  "kernelspec": {
   "display_name": "Python 3",
   "language": "python",
   "name": "python3"
  },
  "language_info": {
   "codemirror_mode": {
    "name": "ipython",
    "version": 3
   },
   "file_extension": ".py",
   "mimetype": "text/x-python",
   "name": "python",
   "nbconvert_exporter": "python",
   "pygments_lexer": "ipython3",
   "version": "3.7.6"
  }
 },
 "nbformat": 4,
 "nbformat_minor": 4
}
